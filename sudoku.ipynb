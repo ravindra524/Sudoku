{
 "cells": [
  {
   "cell_type": "markdown",
   "metadata": {},
   "source": [

    "#SUDOKU"

   ]
  },
  {
   "cell_type": "markdown",
   "metadata": {},
   "source": [
    "This is the implementation of sudoku solver using BACKTRACKING and BITMASKING and HEURISTIC SEARCH for cells with minimum candidates"
   ]
  },
  {
   "cell_type": "code",

   "execution_count": 17,

   "metadata": {},
   "outputs": [
    {
     "output_type": "stream",
     "name": "stdout",
     "text": "0b111111111\n511\n"
    }
   ],
   "source": [
    "#lets take an example grid\n",
    "grid=[    [3,0,6,5,0,8,4,0,0], \n",
    "          [5,2,0,0,0,0,0,0,0], \n",
    "          [0,8,7,0,0,0,0,3,1], \n",
    "          [0,0,3,0,1,0,0,8,0], \n",
    "          [9,0,0,8,6,3,0,0,5], \n",
    "          [0,5,0,0,9,0,6,0,0], \n",
    "          [1,3,0,0,0,0,2,5,0], \n",
    "          [0,0,0,0,0,0,0,7,4], \n",
    "          [0,0,5,2,0,6,3,0,0]  ] \n",
    "\n",
    "grid2=[[9, 0, 6, 0, 7, 0, 4, 0, 3],\n",
    "       [0, 0, 0, 4, 0, 0, 2, 0, 0],\n",
    "       [0, 7, 0, 0, 2, 3, 0, 1, 0],\n",
    "       [5, 0, 0, 0, 0, 0, 1, 0, 0],\n",
    "       [0, 4, 0, 2, 0, 8, 0, 6, 0],\n",
    "       [0, 0, 3, 0, 0, 0, 0, 0, 5],\n",
    "       [0, 3, 0, 7, 0, 0, 0, 5, 0],\n",
    "       [0, 0, 7, 0, 0, 5, 0, 0, 0],\n",
    "       [4, 0, 5, 0, 1, 0, 7, 0, 8]  ]\n",
    "\n",
    "#here we are using bitmasking to store which numbers are absent in a particular row\n",

    "#if 5th bit is unset in a row that means 6 is present in that particular row\n",
    "#if 4th bit is set then 5 is not present in that row\n",

    "rows = [511 for i in range(9)]\n",
    "cols = [511 for i in range(9)]\n",
    "boxes = [511 for i in range(9)]\n",
    "\n",
    "numbers = [[511 for j in range(9)] for i in range(9)]   \n",
    "\n",
    "print bin(511)\n",
    "print numbers[0][1]  #The value in the particular cell(in bitform) represents the valid candidates "
   ]
  },
  {
   "cell_type": "code",

   "execution_count": 18,

   "metadata": {},
   "outputs": [],
   "source": [
    "#Initializing the values in the rows according to the grid\n",
    "\n",
    "def initialize(grid):\n",
    "    global rows,cols,boxes\n",
    "    rows = [511 for i in range(9)]\n",
    "    cols = [511 for i in range(9)]\n",
    "    boxes = [511 for i in range(9)]\n",
    "    \n",
    "    for i in range(9):\n",
    "        for j in range(9):\n",
    "\n",
    "            if grid[i][j] != 0:\n",
    "                num = grid[i][j] - 1\n",
    "                test = (1<<num)\n",
    "                rows[i] = rows[i] & (~test) \n",
    "                cols[j] = cols[j] & (~test)\n",
    "\n",
    "                boxes[3*(i//3) + j//3] &= (~test)\n",
    "            else:\n",
    "                numbers[i][j] = 0\n",
    "\n",
    "    #printingGrid(grid)"
   ]
  },
  {
   "cell_type": "code",

   "execution_count": 19,

   "metadata": {},
   "outputs": [
    {
     "output_type": "stream",
     "name": "stdout",
     "text": "|3 . 6 |5 . 8 |4 . . |\n|5 2 . |. . . |. . . |\n|. 8 7 |. . . |. 3 1 |\n-------+------+-------\n|. . 3 |. 1 . |. 8 . |\n|9 . . |8 6 3 |. . 5 |\n|. 5 . |. 9 . |6 . . |\n-------+------+-------\n|1 3 . |. . . |2 5 . |\n|. . . |. . . |. 7 4 |\n|. . 5 |2 . 6 |3 . . |\n\n"
    }
   ],
   "source": [
    "#for printing the sudoku in an understanding way\n",
    "\n",
    "def printingGrid(grid):\n",
    "    for i in range(9):\n",
    "        if i%3==0 and i!=0:\n",
    "            print '-------+------+-------'\n",
    "        s=''\n",
    "        for j in range(9):\n",
    "            if j%3==0:\n",
    "                s+='|'\n",
    "            else:\n",
    "                s+=''\n",
    "            if grid[i][j]==0:\n",
    "                s += '. '\n",
    "            else:\n",
    "                s+=str(grid[i][j])+' '\n",
    "        s+='|'\n",
    "            \n",
    "        print s\n",
    "    print \n",
    "\n",
    "printingGrid(grid)"
   ]
  },
  {
   "cell_type": "code",

   "execution_count": 20,

   "metadata": {},
   "outputs": [],
   "source": [
    "def findEmptyCells(grid):\n",
    "    for i in range(9):\n",
    "        for j in range(9):\n",
    "            if grid[i][j] == 0:\n",
    "                return (i,j)\n",
    "    return None"
   ]
  },
  {
   "cell_type": "code",

   "execution_count": 21,

   "metadata": {},
   "outputs": [],
   "source": [
    "NodesInBacktrackingTree = 0\n",
    "\n",
    "def backtracking(grid):\n",
    "    global NodesInBacktrackingTree\n",
    "\n",
    "    t = findEmptyCells(grid)\n",
    "    if not t:\n",
    "        print 'Nodes expanded in the Backtracking tree=',NodesInBacktrackingTree\n",
    "        printingGrid(grid)\n",
    "        return True\n",
    "    \n",
    "    x,y = t\n",
    "\n",
    "    IsPossible = rows[x] & cols[y] & boxes[3*(x//3) + y//3]\n",
    "    for num in range(9):\n",
    "        if IsPossible & (1<<num) != 0:\n",
    "            #previously for checking whether a number can be placed in a respective cell we have to check row,col and box\n",
    "            #now we just have to check ispossible variable since we integrated row,col,box values into the ispossible\n",
    "            #using or(|) bitwise opertor thanks to BITMASKING\n",
    "\n",
    "            NodesInBacktrackingTree += 1\n",
    "            \n",
    "            grid[x][y] = num + 1\n",
    "            test = (1<<num)\n",
    "            rows[x] = rows[x] & (~test)\n",
    "            cols[y] = cols[y] & (~test)\n",
    "            boxes[3*(x//3) + y//3] &= (~test)\n",
    "            \n",
    "\n",
    "            nextStep = backtracking(grid)\n",
    "            if nextStep == True:\n",
    "                return True\n",
    "             #backtracking to previous step    \n",
    "            grid[x][y] = 0\n",
    "            rows[x] = rows[x] ^ test \n",
    "            cols[y] = cols[y] ^ test\n",
    "            boxes[3*(x//3) + y//3] ^= test\n",
    "    return False    #if none of the present value is valid,then there is a mistake inthe previous step backtrack there.\n"
   ]
  },
  {
   "cell_type": "code",

   "execution_count": 22,

   "metadata": {},
   "outputs": [
    {
     "output_type": "stream",
     "name": "stdout",
     "text": "0b1001110\n"
    }
   ],
   "source": [
    "test = 78\n",
    "print bin(test)\n",
    "\n",
    "def CandidatesCount(i,j):\n",
    "    count = 0\n",
    "    test = rows[i] & cols[j] & boxes[3*(i//3) + j//3]\n",
    "    \n",
    "    for i in range(9):\n",
    "        if test & (1<<i) != 0:  #------->here is the problem\n",
    "            count += 1\n",
    "\n",
    "    return count"
   ]
  },
  {
   "cell_type": "code",

   "execution_count": 23,

   "metadata": {
    "tags": [
     "outputPrepend",
     "outputPrepend",
     "outputPrepend",
     "outputPrepend",
     "outputPrepend",
     "outputPrepend",
     "outputPrepend",
     "outputPrepend",
     "outputPrepend",
     "outputPrepend",
     "outputPrepend",
     "outputPrepend"
    ]
   },
   "outputs": [
    {
     "output_type": "stream",
     "name": "stdout",
     "text": "(0, 1)\n"
    }
   ],
   "source": [
    "def findEmptyCellsWithMinCandidates(grid):\n",
    "    minx,miny = -1,-1\n",
    "    minCount = 10\n",
    "    for i in range(9):\n",
    "        for j in range(9):\n",
    "            if grid[i][j] == 0:\n",
    "                count = CandidatesCount(i,j)\n",
    "                #print count\n",
    "                if count == 1:\n",
    "                    return (i,j)\n",
    "                elif count < minCount:\n",
    "                    minCount = count\n",
    "                    minx,miny = i,j\n",
    "    return (minx,miny)\n",
    "\n",
    "print findEmptyCellsWithMinCandidates(grid)"
   ]
  },
  {
   "cell_type": "code",

   "execution_count": 24,
   "metadata": {},
   "outputs": [],
   "source": [
    "#Here in this Heuristic search we are selecting the empty cells with minimum candidates \n",
    "#so that we increase the probability of finding the correct candidate \n",
    "#thus we can decrease the number of nodes in the backtracking tree\n",

    "HeuristicSearchNodes = 0\n",
    "\n",
    "def HeuristicBacktracking(grid):\n",
    "    global HeuristicSearchNodes\n",
    "\n",
    "    x,y = findEmptyCellsWithMinCandidates(grid)\n",
    "    if x==-1 and y==-1:\n",
    "        print 'Nodes expanded in the Backtracking tree=',HeuristicSearchNodes\n",
    "        printingGrid(grid)\n",
    "        return True\n",
    "    \n",
    "    IsPossible = rows[x] & cols[y] & boxes[3*(x//3) + y//3]\n",
    "    for num in range(9):\n",
    "        if IsPossible & (1<<num) != 0:\n",
    "            \n",
    "            HeuristicSearchNodes += 1\n",
    "            grid[x][y] = num + 1\n",
    "            test = (1<<num)\n",
    "            rows[x] = rows[x] & (~test)\n",
    "            cols[y] = cols[y] & (~test)\n",
    "            boxes[3*(x//3) + y//3] &= (~test)\n",
    "            #printingGrid(grid)\n",
    "\n",
    "            nextStep = HeuristicBacktracking(grid)\n",
    "            if nextStep == True:\n",
    "                return True\n",
    "             #backtracking to previous step    \n",
    "            grid[x][y] = 0\n",
    "            rows[x] = rows[x] ^ test \n",
    "            cols[y] = cols[y] ^ test\n",
    "            boxes[3*(x//3) + y//3] ^= test\n",
    "    return False   \n",
    "\n"
   ]
  },
  {
   "cell_type": "code",

   "execution_count": 25,

   "metadata": {},
   "outputs": [],
   "source": [
    "from copy import deepcopy"
   ]
  },
  {
   "cell_type": "code",

   "execution_count": 26,

   "metadata": {
    "tags": [
     "outputPrepend",
     "outputPrepend",
     "outputPrepend",
     "outputPrepend",
     "outputPrepend",
     "outputPrepend",
     "outputPrepend",
     "outputPrepend",
     "outputPrepend",
     "outputPrepend",
     "outputPrepend",
     "outputPrepend",
     "outputPrepend",
     "outputPrepend",
     "outputPrepend",
     "outputPrepend",
     "outputPrepend",
     "outputPrepend",
     "outputPrepend",
     "outputPrepend",
     "outputPrepend",
     "outputPrepend",
     "outputPrepend",
     "outputPrepend"
    ]
   },
   "outputs": [],
   "source": [
    "def solve1(grid):\n",


    "    initialize(grid)\n",
    "    backtracking(grid)\n"
   ]
  },
  {
   "cell_type": "code",

   "execution_count": 27,

   "metadata": {},
   "outputs": [],
   "source": [
    "def solve2(grid):\n",

    "    initialize(grid)\n",
    "    HeuristicBacktracking(grid)"
   ]
  },
  {
   "cell_type": "code",

   "execution_count": 28,

   "metadata": {
    "tags": [
     "outputPrepend",
     "outputPrepend",
     "outputPrepend",
     "outputPrepend",
     "outputPrepend",
     "outputPrepend",
     "outputPrepend",
     "outputPrepend",
     "outputPrepend",
     "outputPrepend",
     "outputPrepend",
     "outputPrepend",
     "outputPrepend",
     "outputPrepend",
     "outputPrepend",


     "outputPrepend"
    ]
   },
   "outputs": [
    {
     "output_type": "stream",
     "name": "stdout",

     "text": "Nodes expanded in the Backtracking tree= 178\n|9 2 6 |5 7 1 |4 8 3 |\n|3 5 1 |4 8 6 |2 7 9 |\n|8 7 4 |9 2 3 |5 1 6 |\n-------+------+-------\n|5 8 2 |3 6 7 |1 9 4 |\n|1 4 9 |2 5 8 |3 6 7 |\n|7 6 3 |1 4 9 |8 2 5 |\n-------+------+-------\n|2 3 8 |7 9 4 |6 5 1 |\n|6 1 7 |8 3 5 |9 4 2 |\n|4 9 5 |6 1 2 |7 3 8 |\n\nWall time: 10 ms\n"
    }
   ],
   "source": [
    "%%time\n",

    "grid1 = deepcopy(grid2)\n",
    "solve1(grid1)"
   ]
  },
  {
   "cell_type": "code",

   "execution_count": 29,

   "metadata": {
    "tags": [
     "outputPrepend",
     "outputPrepend",
     "outputPrepend",
     "outputPrepend",
     "outputPrepend",
     "outputPrepend",
     "outputPrepend",
     "outputPrepend",
     "outputPrepend",
     "outputPrepend",
     "outputPrepend",
     "outputPrepend",
     "outputPrepend",
     "outputPrepend",
     "outputPrepend",
     "outputPrepend",
     "outputPrepend",
     "outputPrepend",
     "outputPrepend",
     "outputPrepend",
     "outputPrepend",
     "outputPrepend",
     "outputPrepend",
     "outputPrepend",
     "outputPrepend",
     "outputPrepend",
     "outputPrepend",

     "outputPrepend"
    ]
   },
   "outputs": [
    {
     "output_type": "stream",
     "name": "stdout",

     "text": "Nodes expanded in the Backtracking tree= 80\n|9 2 6 |5 7 1 |4 8 3 |\n|3 5 1 |4 8 6 |2 7 9 |\n|8 7 4 |9 2 3 |5 1 6 |\n-------+------+-------\n|5 8 2 |3 6 7 |1 9 4 |\n|1 4 9 |2 5 8 |3 6 7 |\n|7 6 3 |1 4 9 |8 2 5 |\n-------+------+-------\n|2 3 8 |7 9 4 |6 5 1 |\n|6 1 7 |8 3 5 |9 4 2 |\n|4 9 5 |6 1 2 |7 3 8 |\n\nWall time: 7 ms\n"
    }
   ],
   "source": [
    "%%time\n",

    "grid3 = deepcopy(grid2)\n",
    "solve2(grid3)"
   ]
  }
 ],
 "metadata": {
  "language_info": {
   "codemirror_mode": {
    "name": "ipython",
    "version": 2
   },
   "file_extension": ".py",
   "mimetype": "text/x-python",
   "name": "python",
   "nbconvert_exporter": "python",
   "pygments_lexer": "ipython2",
   "version": "3.8.0-final"
  },
  "orig_nbformat": 2,
  "kernelspec": {
   "name": "python2",
   "display_name": "Python 2"
  }
 },
 "nbformat": 4,
 "nbformat_minor": 2
}